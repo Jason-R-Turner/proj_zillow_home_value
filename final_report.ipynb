{
 "cells": [
  {
   "cell_type": "markdown",
   "id": "01d8752e-2875-4a7b-9a91-42a8a673ff3e",
   "metadata": {},
   "source": [
    "# Zillow Home Value Estimator - Regression Project Presentation\n",
    "#### By Codeup student Jason R. Turner - June 9, 1986\n",
    "***"
   ]
  },
  {
   "cell_type": "markdown",
   "id": "2c4485b2-714e-493b-b1da-bff65db8cbec",
   "metadata": {},
   "source": [
    "## Project Overview\n",
    "***\n",
    "- Create README.md with project objectives, business goals, data dictionary, hypotheses, summary and how to reproduce project.\n",
    "- Create functions to acquire data from the Codeup Database in an wrangle.py file to import into the Final Report Notebook.\n",
    "- Clean and prepare data for the first iteration through the pipeline, MVP preparation. Create a function to automate the process, store the function in a prepare.py module, and prepare data in Final Report Notebook by importing and using the funtion.\n",
    "- Clearly define two hypotheses, set an alpha, run the statistical tests needed, reject or fail to reject the Null Hypothesis, and document findings and takeaways.\n",
    "- Establish a baseline accuracy and document well.\n",
    "- Train three different classification models.\n",
    "- Evaluate models on train and validate datasets.\n",
    "- Choose the model with that performs the best and evaluate that single model on the test dataset.\n",
    "- Create csv file with the tax value dollar count, the probability of the target values, and the model's prediction for each observation in my test dataset.\n",
    "- Document conclusions, takeaways, and next steps in the Final Report Notebook.\n",
    "***"
   ]
  },
  {
   "cell_type": "markdown",
   "id": "6c0de861-64e0-48a3-80e4-2a1ce82171a2",
   "metadata": {},
   "source": [
    "## Executive Summary - Conclusions & Next Steps\n",
    "***\n",
    "- \n",
    "\n",
    "\n",
    "\n",
    "***"
   ]
  },
  {
   "cell_type": "markdown",
   "id": "75ce0eb0-c30f-4a68-b4da-d43ec318ccfa",
   "metadata": {},
   "source": [
    "## Acquire Data\n",
    "***"
   ]
  },
  {
   "cell_type": "code",
   "execution_count": null,
   "id": "cd55cf00-1976-4534-8831-7fdd55619e07",
   "metadata": {},
   "outputs": [],
   "source": []
  }
 ],
 "metadata": {
  "kernelspec": {
   "display_name": "Python 3 (ipykernel)",
   "language": "python",
   "name": "python3"
  },
  "language_info": {
   "codemirror_mode": {
    "name": "ipython",
    "version": 3
   },
   "file_extension": ".py",
   "mimetype": "text/x-python",
   "name": "python",
   "nbconvert_exporter": "python",
   "pygments_lexer": "ipython3",
   "version": "3.9.7"
  }
 },
 "nbformat": 4,
 "nbformat_minor": 5
}
