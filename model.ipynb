{
 "cells": [
  {
   "cell_type": "code",
   "execution_count": null,
   "id": "d0535990-1a3a-4582-b963-0c2672803c07",
   "metadata": {},
   "outputs": [],
   "source": [
    "# turn off pink warning boxes\n",
    "import warnings\n",
    "warnings.filterwarnings(\"ignore\")\n",
    "\n",
    "# import libraries\n",
    "import pandas as pd\n",
    "import matplotlib.pyplot as plt\n",
    "import seaborn as sns\n",
    "import numpy as np\n",
    "from scipy import stats\n",
    "import os\n",
    "import sklearn.preprocessing\n",
    "from math import sqrt\n",
    "import wrangle\n",
    "import env\n",
    "\n",
    "from sklearn.metrics import classification_report, mean_squared_error, r2_score, explained_variance_score\n",
    "\n",
    "from sklearn.linear_model import LogisticRegression, LinearRegression, LassoLars, TweedieRegressor\n",
    "\n",
    "from sklearn.feature_selection import SelectKBest, f_regression, RFE\n",
    "\n",
    "from sklearn.preprocessing import PolynomialFeatures"
   ]
  },
  {
   "cell_type": "code",
   "execution_count": null,
   "id": "12978457-2c1a-40f3-b981-c5d244b8c7ed",
   "metadata": {},
   "outputs": [],
   "source": [
    "# generate parameters, i.e. create model\n",
    "ols_model = LinearRegression().fit(X_train, y_train)\n",
    "\n",
    "# compute predictions and add to original dataframe\n",
    "df['yhat'] = ols_model.predict(df[['x']])\n",
    "\n",
    "df.head(3)\n"
   ]
  },
  {
   "cell_type": "code",
   "execution_count": null,
   "id": "c75492e1-5881-47d6-b117-0e9c84973625",
   "metadata": {},
   "outputs": [],
   "source": []
  },
  {
   "cell_type": "code",
   "execution_count": null,
   "id": "f5d8547c-51c9-4519-8001-03978aedae26",
   "metadata": {},
   "outputs": [],
   "source": []
  }
 ],
 "metadata": {
  "kernelspec": {
   "display_name": "Python 3 (ipykernel)",
   "language": "python",
   "name": "python3"
  },
  "language_info": {
   "codemirror_mode": {
    "name": "ipython",
    "version": 3
   },
   "file_extension": ".py",
   "mimetype": "text/x-python",
   "name": "python",
   "nbconvert_exporter": "python",
   "pygments_lexer": "ipython3",
   "version": "3.9.7"
  }
 },
 "nbformat": 4,
 "nbformat_minor": 5
}
