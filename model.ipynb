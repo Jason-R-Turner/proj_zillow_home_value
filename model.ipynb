{
 "cells": [
  {
   "cell_type": "code",
   "execution_count": 1,
   "id": "d0535990-1a3a-4582-b963-0c2672803c07",
   "metadata": {},
   "outputs": [],
   "source": [
    "# turn off pink warning boxes\n",
    "import warnings\n",
    "warnings.filterwarnings(\"ignore\")\n",
    "\n",
    "# import libraries\n",
    "import pandas as pd\n",
    "import matplotlib.pyplot as plt\n",
    "import seaborn as sns\n",
    "import numpy as np\n",
    "from scipy import stats\n",
    "import os\n",
    "import seaborn as sns\n",
    "import sklearn.preprocessing\n",
    "from math import sqrt\n",
    "import wrangle\n",
    "import env\n",
    "\n",
    "from sklearn.metrics import classification_report, mean_squared_error, r2_score, explained_variance_score\n",
    "\n",
    "from sklearn.linear_model import LogisticRegression, LinearRegression, LassoLars, TweedieRegressor, Ridge\n",
    "\n",
    "from sklearn.feature_selection import SelectKBest, f_regression, RFE\n",
    "\n",
    "from sklearn.preprocessing import PolynomialFeatures\n"
   ]
  },
  {
   "cell_type": "code",
   "execution_count": 2,
   "id": "3f9be7b7-4ae0-4f0e-b189-f5ab92a39ef3",
   "metadata": {},
   "outputs": [
    {
     "data": {
      "text/html": [
       "<div>\n",
       "<style scoped>\n",
       "    .dataframe tbody tr th:only-of-type {\n",
       "        vertical-align: middle;\n",
       "    }\n",
       "\n",
       "    .dataframe tbody tr th {\n",
       "        vertical-align: top;\n",
       "    }\n",
       "\n",
       "    .dataframe thead th {\n",
       "        text-align: right;\n",
       "    }\n",
       "</style>\n",
       "<table border=\"1\" class=\"dataframe\">\n",
       "  <thead>\n",
       "    <tr style=\"text-align: right;\">\n",
       "      <th></th>\n",
       "      <th>bedroomcnt</th>\n",
       "      <th>bathroomcnt</th>\n",
       "      <th>calculatedfinishedsquarefeet</th>\n",
       "      <th>lotsizesquarefeet</th>\n",
       "      <th>taxvaluedollarcnt</th>\n",
       "      <th>yearbuilt</th>\n",
       "      <th>fips</th>\n",
       "    </tr>\n",
       "  </thead>\n",
       "  <tbody>\n",
       "    <tr>\n",
       "      <th>29975</th>\n",
       "      <td>3</td>\n",
       "      <td>2.0</td>\n",
       "      <td>1238</td>\n",
       "      <td>6969</td>\n",
       "      <td>237037</td>\n",
       "      <td>1954</td>\n",
       "      <td>6037</td>\n",
       "    </tr>\n",
       "    <tr>\n",
       "      <th>22486</th>\n",
       "      <td>4</td>\n",
       "      <td>3.0</td>\n",
       "      <td>3833</td>\n",
       "      <td>9964</td>\n",
       "      <td>287413</td>\n",
       "      <td>2007</td>\n",
       "      <td>6037</td>\n",
       "    </tr>\n",
       "    <tr>\n",
       "      <th>18433</th>\n",
       "      <td>4</td>\n",
       "      <td>2.0</td>\n",
       "      <td>1304</td>\n",
       "      <td>6000</td>\n",
       "      <td>66419</td>\n",
       "      <td>1959</td>\n",
       "      <td>6059</td>\n",
       "    </tr>\n",
       "    <tr>\n",
       "      <th>6445</th>\n",
       "      <td>4</td>\n",
       "      <td>2.0</td>\n",
       "      <td>1620</td>\n",
       "      <td>9992</td>\n",
       "      <td>157617</td>\n",
       "      <td>1957</td>\n",
       "      <td>6037</td>\n",
       "    </tr>\n",
       "    <tr>\n",
       "      <th>17421</th>\n",
       "      <td>4</td>\n",
       "      <td>2.0</td>\n",
       "      <td>1963</td>\n",
       "      <td>11049</td>\n",
       "      <td>499310</td>\n",
       "      <td>1961</td>\n",
       "      <td>6037</td>\n",
       "    </tr>\n",
       "    <tr>\n",
       "      <th>...</th>\n",
       "      <td>...</td>\n",
       "      <td>...</td>\n",
       "      <td>...</td>\n",
       "      <td>...</td>\n",
       "      <td>...</td>\n",
       "      <td>...</td>\n",
       "      <td>...</td>\n",
       "    </tr>\n",
       "    <tr>\n",
       "      <th>3076</th>\n",
       "      <td>3</td>\n",
       "      <td>2.0</td>\n",
       "      <td>1737</td>\n",
       "      <td>8901</td>\n",
       "      <td>407191</td>\n",
       "      <td>1968</td>\n",
       "      <td>6059</td>\n",
       "    </tr>\n",
       "    <tr>\n",
       "      <th>26764</th>\n",
       "      <td>3</td>\n",
       "      <td>2.0</td>\n",
       "      <td>1300</td>\n",
       "      <td>7745</td>\n",
       "      <td>268568</td>\n",
       "      <td>1954</td>\n",
       "      <td>6037</td>\n",
       "    </tr>\n",
       "    <tr>\n",
       "      <th>22519</th>\n",
       "      <td>5</td>\n",
       "      <td>4.5</td>\n",
       "      <td>3728</td>\n",
       "      <td>3960</td>\n",
       "      <td>212968</td>\n",
       "      <td>1962</td>\n",
       "      <td>6059</td>\n",
       "    </tr>\n",
       "    <tr>\n",
       "      <th>9386</th>\n",
       "      <td>3</td>\n",
       "      <td>2.0</td>\n",
       "      <td>1337</td>\n",
       "      <td>6150</td>\n",
       "      <td>62699</td>\n",
       "      <td>1950</td>\n",
       "      <td>6037</td>\n",
       "    </tr>\n",
       "    <tr>\n",
       "      <th>1879</th>\n",
       "      <td>2</td>\n",
       "      <td>2.0</td>\n",
       "      <td>1367</td>\n",
       "      <td>6000</td>\n",
       "      <td>815542</td>\n",
       "      <td>2014</td>\n",
       "      <td>6059</td>\n",
       "    </tr>\n",
       "  </tbody>\n",
       "</table>\n",
       "<p>24940 rows × 7 columns</p>\n",
       "</div>"
      ],
      "text/plain": [
       "       bedroomcnt  bathroomcnt  calculatedfinishedsquarefeet  \\\n",
       "29975           3          2.0                          1238   \n",
       "22486           4          3.0                          3833   \n",
       "18433           4          2.0                          1304   \n",
       "6445            4          2.0                          1620   \n",
       "17421           4          2.0                          1963   \n",
       "...           ...          ...                           ...   \n",
       "3076            3          2.0                          1737   \n",
       "26764           3          2.0                          1300   \n",
       "22519           5          4.5                          3728   \n",
       "9386            3          2.0                          1337   \n",
       "1879            2          2.0                          1367   \n",
       "\n",
       "       lotsizesquarefeet  taxvaluedollarcnt  yearbuilt  fips  \n",
       "29975               6969             237037       1954  6037  \n",
       "22486               9964             287413       2007  6037  \n",
       "18433               6000              66419       1959  6059  \n",
       "6445                9992             157617       1957  6037  \n",
       "17421              11049             499310       1961  6037  \n",
       "...                  ...                ...        ...   ...  \n",
       "3076                8901             407191       1968  6059  \n",
       "26764               7745             268568       1954  6037  \n",
       "22519               3960             212968       1962  6059  \n",
       "9386                6150              62699       1950  6037  \n",
       "1879                6000             815542       2014  6059  \n",
       "\n",
       "[24940 rows x 7 columns]"
      ]
     },
     "execution_count": 2,
     "metadata": {},
     "output_type": "execute_result"
    }
   ],
   "source": [
    "train, validate, test = wrangle.wrangle_zillow()\n",
    "train"
   ]
  },
  {
   "cell_type": "code",
   "execution_count": 3,
   "id": "1efff5ea-a37d-4867-9f77-c726adb86672",
   "metadata": {},
   "outputs": [
    {
     "data": {
      "text/plain": [
       "LinearRegression()"
      ]
     },
     "execution_count": 3,
     "metadata": {},
     "output_type": "execute_result"
    }
   ],
   "source": [
    "# splits our training set into x and y values to run in our algorithms\n",
    "X_train = train.drop(columns=['taxvaluedollarcnt', 'yearbuilt', 'fips'])\n",
    "y_train = train['taxvaluedollarcnt']\n",
    "\n",
    "# splits our validate set into x and y values to run in our algorithms\n",
    "X_validate = validate.drop(columns=['taxvaluedollarcnt', 'yearbuilt', 'fips'])\n",
    "y_validate = validate['taxvaluedollarcnt']\n",
    "\n",
    "# splits our test set into x and y values to run in our algorithms\n",
    "X_test = test.drop(columns=['taxvaluedollarcnt', 'yearbuilt', 'fips'])\n",
    "y_test = test['taxvaluedollarcnt']\n",
    "\n",
    "regr = LinearRegression()\n",
    "\n",
    "regr.fit(X_train, y_train)"
   ]
  },
  {
   "cell_type": "code",
   "execution_count": 4,
   "id": "7a845017-bbc9-493c-95d0-115bbcca11fd",
   "metadata": {},
   "outputs": [
    {
     "data": {
      "text/plain": [
       "((24940, 4), (24940,), (24940, 7))"
      ]
     },
     "execution_count": 4,
     "metadata": {},
     "output_type": "execute_result"
    }
   ],
   "source": [
    "X_train.shape, y_train.shape, train.shape"
   ]
  },
  {
   "cell_type": "code",
   "execution_count": 5,
   "id": "3c035ac0-b4e4-4071-b17a-58cae4db28c5",
   "metadata": {},
   "outputs": [
    {
     "data": {
      "text/plain": [
       "29975    237037.0\n",
       "22486    287413.0\n",
       "18433     66419.0\n",
       "Name: taxvaluedollarcnt, dtype: float64"
      ]
     },
     "execution_count": 5,
     "metadata": {},
     "output_type": "execute_result"
    }
   ],
   "source": [
    "y_train['yhat_baseline'] = y_train.mean()\n",
    "y_train.head(3)"
   ]
  },
  {
   "cell_type": "code",
   "execution_count": 6,
   "id": "39b3c658-6386-4878-aea4-0b0f86040713",
   "metadata": {},
   "outputs": [
    {
     "data": {
      "text/html": [
       "<div>\n",
       "<style scoped>\n",
       "    .dataframe tbody tr th:only-of-type {\n",
       "        vertical-align: middle;\n",
       "    }\n",
       "\n",
       "    .dataframe tbody tr th {\n",
       "        vertical-align: top;\n",
       "    }\n",
       "\n",
       "    .dataframe thead th {\n",
       "        text-align: right;\n",
       "    }\n",
       "</style>\n",
       "<table border=\"1\" class=\"dataframe\">\n",
       "  <thead>\n",
       "    <tr style=\"text-align: right;\">\n",
       "      <th></th>\n",
       "      <th>bedroomcnt</th>\n",
       "      <th>bathroomcnt</th>\n",
       "      <th>calculatedfinishedsquarefeet</th>\n",
       "      <th>lotsizesquarefeet</th>\n",
       "      <th>taxvaluedollarcnt</th>\n",
       "      <th>yearbuilt</th>\n",
       "      <th>fips</th>\n",
       "      <th>yhat</th>\n",
       "    </tr>\n",
       "  </thead>\n",
       "  <tbody>\n",
       "    <tr>\n",
       "      <th>29975</th>\n",
       "      <td>3</td>\n",
       "      <td>2.0</td>\n",
       "      <td>1238</td>\n",
       "      <td>6969</td>\n",
       "      <td>237037</td>\n",
       "      <td>1954</td>\n",
       "      <td>6037</td>\n",
       "      <td>524259.077147</td>\n",
       "    </tr>\n",
       "    <tr>\n",
       "      <th>22486</th>\n",
       "      <td>4</td>\n",
       "      <td>3.0</td>\n",
       "      <td>3833</td>\n",
       "      <td>9964</td>\n",
       "      <td>287413</td>\n",
       "      <td>2007</td>\n",
       "      <td>6037</td>\n",
       "      <td>525452.615680</td>\n",
       "    </tr>\n",
       "    <tr>\n",
       "      <th>18433</th>\n",
       "      <td>4</td>\n",
       "      <td>2.0</td>\n",
       "      <td>1304</td>\n",
       "      <td>6000</td>\n",
       "      <td>66419</td>\n",
       "      <td>1959</td>\n",
       "      <td>6059</td>\n",
       "      <td>523872.920606</td>\n",
       "    </tr>\n",
       "  </tbody>\n",
       "</table>\n",
       "</div>"
      ],
      "text/plain": [
       "       bedroomcnt  bathroomcnt  calculatedfinishedsquarefeet  \\\n",
       "29975           3          2.0                          1238   \n",
       "22486           4          3.0                          3833   \n",
       "18433           4          2.0                          1304   \n",
       "\n",
       "       lotsizesquarefeet  taxvaluedollarcnt  yearbuilt  fips           yhat  \n",
       "29975               6969             237037       1954  6037  524259.077147  \n",
       "22486               9964             287413       2007  6037  525452.615680  \n",
       "18433               6000              66419       1959  6059  523872.920606  "
      ]
     },
     "execution_count": 6,
     "metadata": {},
     "output_type": "execute_result"
    }
   ],
   "source": [
    "# generate parameters, i.e. create model\n",
    "ols_model = LinearRegression().fit(train[['lotsizesquarefeet']], train.taxvaluedollarcnt)\n",
    "\n",
    "# compute predictions and add to original dataframe\n",
    "train['yhat'] = ols_model.predict(train[['lotsizesquarefeet']])\n",
    "\n",
    "train.head(3)\n"
   ]
  },
  {
   "cell_type": "code",
   "execution_count": 7,
   "id": "cbcbf303-154b-4e21-990c-ff27b0a3058d",
   "metadata": {},
   "outputs": [],
   "source": [
    "taxes = train.taxvaluedollarcnt\n",
    "lot_size = train.lotsizesquarefeet\n"
   ]
  },
  {
   "cell_type": "code",
   "execution_count": 8,
   "id": "d5b88454-2284-41e4-9ea0-cc0b6bf37e75",
   "metadata": {},
   "outputs": [],
   "source": [
    "y_pred = regr.predict(X_train)\n"
   ]
  },
  {
   "cell_type": "code",
   "execution_count": 9,
   "id": "b97910f8-f5e6-4d8c-bd61-c5266ca1b5d8",
   "metadata": {},
   "outputs": [
    {
     "data": {
      "text/plain": [
       "[<matplotlib.lines.Line2D at 0x7facd00e3580>]"
      ]
     },
     "execution_count": 9,
     "metadata": {},
     "output_type": "execute_result"
    },
    {
     "data": {
      "image/png": "[encoded data removed]",
      "text/plain": [
       "<Figure size 432x288 with 1 Axes>"
      ]
     },
     "metadata": {
      "needs_background": "light"
     },
     "output_type": "display_data"
    }
   ],
   "source": [
    "plt.scatter(lot_size, taxes, color=\"black\")\n",
    "plt.plot(taxes, y_pred, color=\"blue\", linewidth=3)"
   ]
  },
  {
   "cell_type": "code",
   "execution_count": 10,
   "id": "73fa67d9-aca3-46ff-97ff-f9c7c23bad0c",
   "metadata": {},
   "outputs": [
    {
     "data": {
      "text/html": [
       "<div>\n",
       "<style scoped>\n",
       "    .dataframe tbody tr th:only-of-type {\n",
       "        vertical-align: middle;\n",
       "    }\n",
       "\n",
       "    .dataframe tbody tr th {\n",
       "        vertical-align: top;\n",
       "    }\n",
       "\n",
       "    .dataframe thead th {\n",
       "        text-align: right;\n",
       "    }\n",
       "</style>\n",
       "<table border=\"1\" class=\"dataframe\">\n",
       "  <thead>\n",
       "    <tr style=\"text-align: right;\">\n",
       "      <th></th>\n",
       "      <th>bedroomcnt</th>\n",
       "      <th>bathroomcnt</th>\n",
       "      <th>calculatedfinishedsquarefeet</th>\n",
       "      <th>lotsizesquarefeet</th>\n",
       "      <th>taxvaluedollarcnt</th>\n",
       "      <th>yearbuilt</th>\n",
       "      <th>fips</th>\n",
       "      <th>yhat</th>\n",
       "      <th>residual</th>\n",
       "      <th>residual_baseline</th>\n",
       "    </tr>\n",
       "  </thead>\n",
       "  <tbody>\n",
       "    <tr>\n",
       "      <th>29975</th>\n",
       "      <td>3</td>\n",
       "      <td>2.0</td>\n",
       "      <td>1238</td>\n",
       "      <td>6969</td>\n",
       "      <td>237037</td>\n",
       "      <td>1954</td>\n",
       "      <td>6037</td>\n",
       "      <td>524259.077147</td>\n",
       "      <td>287222.077147</td>\n",
       "      <td>288774.114595</td>\n",
       "    </tr>\n",
       "    <tr>\n",
       "      <th>22486</th>\n",
       "      <td>4</td>\n",
       "      <td>3.0</td>\n",
       "      <td>3833</td>\n",
       "      <td>9964</td>\n",
       "      <td>287413</td>\n",
       "      <td>2007</td>\n",
       "      <td>6037</td>\n",
       "      <td>525452.615680</td>\n",
       "      <td>238039.615680</td>\n",
       "      <td>238398.114595</td>\n",
       "    </tr>\n",
       "    <tr>\n",
       "      <th>18433</th>\n",
       "      <td>4</td>\n",
       "      <td>2.0</td>\n",
       "      <td>1304</td>\n",
       "      <td>6000</td>\n",
       "      <td>66419</td>\n",
       "      <td>1959</td>\n",
       "      <td>6059</td>\n",
       "      <td>523872.920606</td>\n",
       "      <td>457453.920606</td>\n",
       "      <td>459392.114595</td>\n",
       "    </tr>\n",
       "    <tr>\n",
       "      <th>6445</th>\n",
       "      <td>4</td>\n",
       "      <td>2.0</td>\n",
       "      <td>1620</td>\n",
       "      <td>9992</td>\n",
       "      <td>157617</td>\n",
       "      <td>1957</td>\n",
       "      <td>6037</td>\n",
       "      <td>525463.773970</td>\n",
       "      <td>367846.773970</td>\n",
       "      <td>368194.114595</td>\n",
       "    </tr>\n",
       "    <tr>\n",
       "      <th>17421</th>\n",
       "      <td>4</td>\n",
       "      <td>2.0</td>\n",
       "      <td>1963</td>\n",
       "      <td>11049</td>\n",
       "      <td>499310</td>\n",
       "      <td>1961</td>\n",
       "      <td>6037</td>\n",
       "      <td>525884.999423</td>\n",
       "      <td>26574.999423</td>\n",
       "      <td>26501.114595</td>\n",
       "    </tr>\n",
       "  </tbody>\n",
       "</table>\n",
       "</div>"
      ],
      "text/plain": [
       "       bedroomcnt  bathroomcnt  calculatedfinishedsquarefeet  \\\n",
       "29975           3          2.0                          1238   \n",
       "22486           4          3.0                          3833   \n",
       "18433           4          2.0                          1304   \n",
       "6445            4          2.0                          1620   \n",
       "17421           4          2.0                          1963   \n",
       "\n",
       "       lotsizesquarefeet  taxvaluedollarcnt  yearbuilt  fips           yhat  \\\n",
       "29975               6969             237037       1954  6037  524259.077147   \n",
       "22486               9964             287413       2007  6037  525452.615680   \n",
       "18433               6000              66419       1959  6059  523872.920606   \n",
       "6445                9992             157617       1957  6037  525463.773970   \n",
       "17421              11049             499310       1961  6037  525884.999423   \n",
       "\n",
       "            residual  residual_baseline  \n",
       "29975  287222.077147      288774.114595  \n",
       "22486  238039.615680      238398.114595  \n",
       "18433  457453.920606      459392.114595  \n",
       "6445   367846.773970      368194.114595  \n",
       "17421   26574.999423       26501.114595  "
      ]
     },
     "execution_count": 10,
     "metadata": {},
     "output_type": "execute_result"
    }
   ],
   "source": [
    "# compute residuals\n",
    "train['residual'] = train['yhat'] - train['taxvaluedollarcnt']\n",
    "train['residual_baseline'] = y_train['yhat_baseline'] - train['taxvaluedollarcnt']\n",
    "train.head()"
   ]
  },
  {
   "cell_type": "code",
   "execution_count": 13,
   "id": "86bb1a03-87ad-4f4e-905b-09c7a3e25869",
   "metadata": {},
   "outputs": [
    {
     "data": {
      "text/plain": [
       "<AxesSubplot:xlabel='residual_baseline', ylabel='residual'>"
      ]
     },
     "execution_count": 13,
     "metadata": {},
     "output_type": "execute_result"
    },
    {
     "data": {
      "image/png": "[encoded data removed]",
      "text/plain": [
       "<Figure size 432x288 with 1 Axes>"
      ]
     },
     "metadata": {
      "needs_background": "light"
     },
     "output_type": "display_data"
    }
   ],
   "source": [
    "sns.residplot(x=train['residual_baseline'], y=train['residual'], lowess=True, color=\"g\")\n"
   ]
  },
  {
   "cell_type": "code",
   "execution_count": null,
   "id": "af26376d-92d0-4ce9-b0fe-24a22887c083",
   "metadata": {},
   "outputs": [],
   "source": [
    "one_bath = train[train.bathroomcnt == 1].taxvaluedollarcnt\n",
    "two_bed = train[train.bedroomcnt == 2].taxvaluedollarcnt"
   ]
  },
  {
   "cell_type": "code",
   "execution_count": null,
   "id": "f06d9c31-2f70-4faf-854f-bbabf7214d6e",
   "metadata": {},
   "outputs": [],
   "source": [
    "one_bath.shape, one_bath.hist()"
   ]
  },
  {
   "cell_type": "code",
   "execution_count": null,
   "id": "c75492e1-5881-47d6-b117-0e9c84973625",
   "metadata": {},
   "outputs": [],
   "source": [
    "# generate parameters, i.e. create model\n",
    "ols_model = LinearRegression().fit(train[['bathroomcnt']], train.taxvaluedollarcnt)\n",
    "\n",
    "# compute predictions and add to original dataframe\n",
    "train['yhat'] = ols_model.predict(train[['lotsizesquarefeet']])\n",
    "\n",
    "train.head(3)\n"
   ]
  },
  {
   "cell_type": "code",
   "execution_count": null,
   "id": "f5d8547c-51c9-4519-8001-03978aedae26",
   "metadata": {},
   "outputs": [],
   "source": []
  }
 ],
 "metadata": {
  "kernelspec": {
   "display_name": "Python 3 (ipykernel)",
   "language": "python",
   "name": "python3"
  },
  "language_info": {
   "codemirror_mode": {
    "name": "ipython",
    "version": 3
   },
   "file_extension": ".py",
   "mimetype": "text/x-python",
   "name": "python",
   "nbconvert_exporter": "python",
   "pygments_lexer": "ipython3",
   "version": "3.9.7"
  }
 },
 "nbformat": 4,
 "nbformat_minor": 5
}
